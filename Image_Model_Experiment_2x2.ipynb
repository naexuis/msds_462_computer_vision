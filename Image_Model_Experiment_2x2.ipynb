{
  "nbformat": 4,
  "nbformat_minor": 0,
  "metadata": {
    "accelerator": "GPU",
    "colab": {
      "name": "Image_Model_Experiment_2x2.ipynb",
      "provenance": [],
      "collapsed_sections": [],
      "machine_shape": "hm"
    },
    "kernelspec": {
      "display_name": "Python 3",
      "language": "python",
      "name": "python3"
    },
    "language_info": {
      "codemirror_mode": {
        "name": "ipython",
        "version": 3
      },
      "file_extension": ".py",
      "mimetype": "text/x-python",
      "name": "python",
      "nbconvert_exporter": "python",
      "pygments_lexer": "ipython3",
      "version": "3.9.4"
    }
  },
  "cells": [
    {
      "cell_type": "markdown",
      "metadata": {
        "id": "B_XXVpoxtTZD"
      },
      "source": [
        "# Experiment 2\n",
        "\n",
        "Extracting Features using pretrained convolutional base (MobileNet) then defining and training the densely connected classifier."
      ]
    },
    {
      "cell_type": "code",
      "metadata": {
        "colab": {
          "base_uri": "https://localhost:8080/"
        },
        "id": "wFiiq3RTj7Fv",
        "outputId": "378cf25c-7309-424b-c2aa-7e89bbd8defa"
      },
      "source": [
        "# Base libraries\n",
        "import numpy as np\n",
        "import pandas as pd\n",
        "import os, glob, shutil, math\n",
        "\n",
        "# set up notebook to display multiple output in one cell\n",
        "from IPython.core.interactiveshell import InteractiveShell\n",
        "InteractiveShell.ast_node_interactivity = \"all\"\n",
        "\n",
        "# Machine Learning libraries - SKLearn\n",
        "from sklearn.datasets import fetch_openml\n",
        "from sklearn.utils import shuffle\n",
        "from sklearn.model_selection import train_test_split\n",
        "from sklearn.metrics import mean_squared_error, mean_absolute_error\n",
        "from sklearn.metrics import confusion_matrix\n",
        "from sklearn.preprocessing import StandardScaler\n",
        "from sklearn.decomposition import PCA\n",
        "from sklearn.manifold import TSNE\n",
        "from sklearn.ensemble import RandomForestClassifier\n",
        "\n",
        "\n",
        "# Machine Learning libraries - TensorFlow\n",
        "import tensorflow as tf\n",
        "from tensorflow.keras.utils import to_categorical\n",
        "from tensorflow import keras\n",
        "from tensorflow.keras import models\n",
        "from tensorflow.keras.models import Sequential, Model\n",
        "from tensorflow.keras.layers import *\n",
        "from tensorflow.keras.optimizers import *\n",
        "from tensorflow.keras.callbacks import *\n",
        "from tensorflow.keras.preprocessing.image import *\n",
        "from tensorflow.keras.applications.mobilenet import MobileNet, preprocess_input\n",
        "\n",
        "\n",
        "# Visualization libraries \n",
        "import seaborn as sns\n",
        "%matplotlib inline\n",
        "from IPython.display import Image, display\n",
        "import matplotlib.pyplot as plt\n",
        "import matplotlib.pylab as pylab\n",
        "from matplotlib.image import imread\n",
        "import plotly.express as px\n",
        "\n",
        "params = {'legend.fontsize': 'x-large',\n",
        "          'figure.figsize': (15, 5),\n",
        "         'axes.labelsize': 'x-large',\n",
        "         'axes.titlesize':'x-large',\n",
        "         'xtick.labelsize':'x-large',\n",
        "         'ytick.labelsize':'x-large'}\n",
        "\n",
        "pylab.rcParams.update(params)\n",
        "\n",
        "# Image libraries\n",
        "from PIL import Image\n",
        "\n",
        "# Time libraries\n",
        "from datetime import datetime\n",
        "import time\n",
        "\n",
        "# h5py file \n",
        "import h5py\n",
        "\n",
        "# Progress bar\n",
        "from tqdm import tqdm\n",
        "\n",
        "print('Task Complete at {}'.format(datetime.now()))"
      ],
      "execution_count": null,
      "outputs": [
        {
          "output_type": "stream",
          "text": [
            "Task Complete at 2021-05-21 02:38:32.161791\n"
          ],
          "name": "stdout"
        }
      ]
    },
    {
      "cell_type": "code",
      "metadata": {
        "colab": {
          "base_uri": "https://localhost:8080/"
        },
        "id": "o-oThVHTtkGq",
        "outputId": "fd89f206-1e0e-4bb5-f68e-7b7f5a89f7d2"
      },
      "source": [
        "from google.colab import drive\n",
        "drive.mount('/content/gdrive', force_remount=True)\n",
        "\n",
        "work_dir = \"/content/gdrive/My Drive/MSDS_458_Deep_Learning/Assignment 4/\""
      ],
      "execution_count": null,
      "outputs": [
        {
          "output_type": "stream",
          "text": [
            "Mounted at /content/gdrive\n"
          ],
          "name": "stdout"
        }
      ]
    },
    {
      "cell_type": "code",
      "metadata": {
        "id": "rY19kbfEkqsV"
      },
      "source": [
        "imagewoof2_dir = work_dir + 'imagewoof2/'"
      ],
      "execution_count": null,
      "outputs": []
    },
    {
      "cell_type": "code",
      "metadata": {
        "id": "LDByS3bnpR7B"
      },
      "source": [
        "train_dir = os.path.join(imagewoof2_dir, 'train/')\n",
        "val_dir = os.path.join(imagewoof2_dir, 'test/')"
      ],
      "execution_count": null,
      "outputs": []
    },
    {
      "cell_type": "code",
      "metadata": {
        "id": "6pqPQgcTqQl5"
      },
      "source": [
        "NUM_CLASSES = 10\n",
        "BATCH_SIZE = 64\n",
        "IMG_WIDTH, IMG_HEIGHT = 224, 224"
      ],
      "execution_count": null,
      "outputs": []
    },
    {
      "cell_type": "code",
      "metadata": {
        "colab": {
          "base_uri": "https://localhost:8080/"
        },
        "id": "Q3yvqRvIogAL",
        "outputId": "6dda5663-0373-41e1-a962-f35e1c258687"
      },
      "source": [
        "train_images = [train_dir+i for i in os.listdir(train_dir)]\n",
        "train_images"
      ],
      "execution_count": null,
      "outputs": [
        {
          "output_type": "execute_result",
          "data": {
            "text/plain": [
              "['/content/gdrive/My Drive/MSDS_458_Deep_Learning/Assignment 4/imagewoof2/train/australian_terrier',\n",
              " '/content/gdrive/My Drive/MSDS_458_Deep_Learning/Assignment 4/imagewoof2/train/golden_retriever',\n",
              " '/content/gdrive/My Drive/MSDS_458_Deep_Learning/Assignment 4/imagewoof2/train/english_foxhound',\n",
              " '/content/gdrive/My Drive/MSDS_458_Deep_Learning/Assignment 4/imagewoof2/train/shih-tzu',\n",
              " '/content/gdrive/My Drive/MSDS_458_Deep_Learning/Assignment 4/imagewoof2/train/rhodesian_ridgeback',\n",
              " '/content/gdrive/My Drive/MSDS_458_Deep_Learning/Assignment 4/imagewoof2/train/old_english_sheepdog',\n",
              " '/content/gdrive/My Drive/MSDS_458_Deep_Learning/Assignment 4/imagewoof2/train/border_terrier',\n",
              " '/content/gdrive/My Drive/MSDS_458_Deep_Learning/Assignment 4/imagewoof2/train/samoyed',\n",
              " '/content/gdrive/My Drive/MSDS_458_Deep_Learning/Assignment 4/imagewoof2/train/beagle',\n",
              " '/content/gdrive/My Drive/MSDS_458_Deep_Learning/Assignment 4/imagewoof2/train/pembroke-welsh-corgi']"
            ]
          },
          "metadata": {
            "tags": []
          },
          "execution_count": 6
        }
      ]
    },
    {
      "cell_type": "code",
      "metadata": {
        "colab": {
          "base_uri": "https://localhost:8080/"
        },
        "id": "Ha0QkCPCof1P",
        "outputId": "0f11cbf2-4c28-4424-fe49-577c92080c01"
      },
      "source": [
        "val_images = [val_dir+i for i in os.listdir(val_dir)]\n",
        "val_images"
      ],
      "execution_count": null,
      "outputs": [
        {
          "output_type": "execute_result",
          "data": {
            "text/plain": [
              "['/content/gdrive/My Drive/MSDS_458_Deep_Learning/Assignment 4/imagewoof2/test/golden_retriever',\n",
              " '/content/gdrive/My Drive/MSDS_458_Deep_Learning/Assignment 4/imagewoof2/test/old_english_sheepdog',\n",
              " '/content/gdrive/My Drive/MSDS_458_Deep_Learning/Assignment 4/imagewoof2/test/australian_terrier',\n",
              " '/content/gdrive/My Drive/MSDS_458_Deep_Learning/Assignment 4/imagewoof2/test/samoyed',\n",
              " '/content/gdrive/My Drive/MSDS_458_Deep_Learning/Assignment 4/imagewoof2/test/shih-tzu',\n",
              " '/content/gdrive/My Drive/MSDS_458_Deep_Learning/Assignment 4/imagewoof2/test/beagle',\n",
              " '/content/gdrive/My Drive/MSDS_458_Deep_Learning/Assignment 4/imagewoof2/test/border_terrier',\n",
              " '/content/gdrive/My Drive/MSDS_458_Deep_Learning/Assignment 4/imagewoof2/test/rhodesian_ridgeback',\n",
              " '/content/gdrive/My Drive/MSDS_458_Deep_Learning/Assignment 4/imagewoof2/test/english_foxhound',\n",
              " '/content/gdrive/My Drive/MSDS_458_Deep_Learning/Assignment 4/imagewoof2/test/pembroke-welsh-corgi']"
            ]
          },
          "metadata": {
            "tags": []
          },
          "execution_count": 7
        }
      ]
    },
    {
      "cell_type": "code",
      "metadata": {
        "colab": {
          "base_uri": "https://localhost:8080/"
        },
        "id": "8GB9oXwco_4j",
        "outputId": "a7542997-ce02-4699-db1b-7487f01c758f"
      },
      "source": [
        "# Define target dictionary\n",
        "classes = {}\n",
        "for i in range(len(train_images)):\n",
        "    tmp = train_images[i].split('/content/gdrive/My Drive/MSDS_458_Deep_Learning/Assignment 4/imagewoof2/train/')[1]\n",
        "    classes[tmp] = i\n",
        "classes"
      ],
      "execution_count": null,
      "outputs": [
        {
          "output_type": "execute_result",
          "data": {
            "text/plain": [
              "{'australian_terrier': 0,\n",
              " 'beagle': 8,\n",
              " 'border_terrier': 6,\n",
              " 'english_foxhound': 2,\n",
              " 'golden_retriever': 1,\n",
              " 'old_english_sheepdog': 5,\n",
              " 'pembroke-welsh-corgi': 9,\n",
              " 'rhodesian_ridgeback': 4,\n",
              " 'samoyed': 7,\n",
              " 'shih-tzu': 3}"
            ]
          },
          "metadata": {
            "tags": []
          },
          "execution_count": 8
        }
      ]
    },
    {
      "cell_type": "code",
      "metadata": {
        "id": "IwcKNM3Yp39f"
      },
      "source": [
        "label_im = []\n",
        "total_im = []\n",
        "for k in range(len(train_images)):\n",
        "  trainfd = train_images[k] + \"/\"\n",
        "  label = trainfd.split('/content/gdrive/My Drive/MSDS_458_Deep_Learning/Assignment 4/imagewoof2/train/')[1].split(\"/\")[0]\n",
        "  label_im.append(label)\n",
        "  train_images_tmp = [trainfd+i for i in os.listdir(trainfd)]\n",
        "  df_images = train_images_tmp\n",
        "  total_im.append(len(df_images))"
      ],
      "execution_count": null,
      "outputs": []
    },
    {
      "cell_type": "code",
      "metadata": {
        "colab": {
          "base_uri": "https://localhost:8080/",
          "height": 363
        },
        "id": "asPMS7CrrY7u",
        "outputId": "a4ee9827-7950-4100-cba3-d5a588717c1b"
      },
      "source": [
        "d = {'Labels': label_im,\n",
        "     'Total': total_im}\n",
        "\n",
        "dog_df = pd.DataFrame(d)\n",
        "dog_df"
      ],
      "execution_count": null,
      "outputs": [
        {
          "output_type": "execute_result",
          "data": {
            "text/html": [
              "<div>\n",
              "<style scoped>\n",
              "    .dataframe tbody tr th:only-of-type {\n",
              "        vertical-align: middle;\n",
              "    }\n",
              "\n",
              "    .dataframe tbody tr th {\n",
              "        vertical-align: top;\n",
              "    }\n",
              "\n",
              "    .dataframe thead th {\n",
              "        text-align: right;\n",
              "    }\n",
              "</style>\n",
              "<table border=\"1\" class=\"dataframe\">\n",
              "  <thead>\n",
              "    <tr style=\"text-align: right;\">\n",
              "      <th></th>\n",
              "      <th>Labels</th>\n",
              "      <th>Total</th>\n",
              "    </tr>\n",
              "  </thead>\n",
              "  <tbody>\n",
              "    <tr>\n",
              "      <th>0</th>\n",
              "      <td>australian_terrier</td>\n",
              "      <td>943</td>\n",
              "    </tr>\n",
              "    <tr>\n",
              "      <th>1</th>\n",
              "      <td>golden_retriever</td>\n",
              "      <td>949</td>\n",
              "    </tr>\n",
              "    <tr>\n",
              "      <th>2</th>\n",
              "      <td>english_foxhound</td>\n",
              "      <td>932</td>\n",
              "    </tr>\n",
              "    <tr>\n",
              "      <th>3</th>\n",
              "      <td>shih-tzu</td>\n",
              "      <td>941</td>\n",
              "    </tr>\n",
              "    <tr>\n",
              "      <th>4</th>\n",
              "      <td>rhodesian_ridgeback</td>\n",
              "      <td>942</td>\n",
              "    </tr>\n",
              "    <tr>\n",
              "      <th>5</th>\n",
              "      <td>old_english_sheepdog</td>\n",
              "      <td>928</td>\n",
              "    </tr>\n",
              "    <tr>\n",
              "      <th>6</th>\n",
              "      <td>border_terrier</td>\n",
              "      <td>949</td>\n",
              "    </tr>\n",
              "    <tr>\n",
              "      <th>7</th>\n",
              "      <td>samoyed</td>\n",
              "      <td>921</td>\n",
              "    </tr>\n",
              "    <tr>\n",
              "      <th>8</th>\n",
              "      <td>beagle</td>\n",
              "      <td>589</td>\n",
              "    </tr>\n",
              "    <tr>\n",
              "      <th>9</th>\n",
              "      <td>pembroke-welsh-corgi</td>\n",
              "      <td>164</td>\n",
              "    </tr>\n",
              "  </tbody>\n",
              "</table>\n",
              "</div>"
            ],
            "text/plain": [
              "                 Labels  Total\n",
              "0    australian_terrier    943\n",
              "1      golden_retriever    949\n",
              "2      english_foxhound    932\n",
              "3              shih-tzu    941\n",
              "4   rhodesian_ridgeback    942\n",
              "5  old_english_sheepdog    928\n",
              "6        border_terrier    949\n",
              "7               samoyed    921\n",
              "8                beagle    589\n",
              "9  pembroke-welsh-corgi    164"
            ]
          },
          "metadata": {
            "tags": []
          },
          "execution_count": 10
        }
      ]
    },
    {
      "cell_type": "code",
      "metadata": {
        "colab": {
          "base_uri": "https://localhost:8080/"
        },
        "id": "VRPcrZnBreRg",
        "outputId": "ae3d945e-4331-4921-87a9-6e5642c0de3e"
      },
      "source": [
        "m = dog_df['Total'].sum()\n",
        "m"
      ],
      "execution_count": null,
      "outputs": [
        {
          "output_type": "execute_result",
          "data": {
            "text/plain": [
              "8258"
            ]
          },
          "metadata": {
            "tags": []
          },
          "execution_count": 11
        }
      ]
    },
    {
      "cell_type": "code",
      "metadata": {
        "id": "tZnwBuX0roW7"
      },
      "source": [
        "X = np.ndarray((m, IMG_WIDTH, IMG_HEIGHT, 3), dtype=np.uint8)\n",
        "y = np.zeros((m,1))"
      ],
      "execution_count": null,
      "outputs": []
    },
    {
      "cell_type": "code",
      "metadata": {
        "colab": {
          "base_uri": "https://localhost:8080/"
        },
        "id": "pr3p1F9gr8rT",
        "outputId": "2fb58535-0903-4541-e0b8-5dec2e4d2925"
      },
      "source": [
        "from keras.preprocessing.image import load_img\n",
        "from keras.preprocessing.image import img_to_array\n",
        "\n",
        "count = 0\n",
        "for k in tqdm(range(len(train_images))):\n",
        "    trainfd = train_images[k] + \"/\"\n",
        "    label = trainfd.split('/content/gdrive/My Drive/MSDS_458_Deep_Learning/Assignment 4/imagewoof2/train/')[1].split(\"/\")[0]\n",
        "    label_num = classes[label]\n",
        "    train_images_tmp = [trainfd+i for i in os.listdir(trainfd)]\n",
        "    df_images = train_images_tmp\n",
        "    #Find the total number of images\n",
        "    m = len(df_images)\n",
        "    #Create an array to put the data\n",
        "    for i, image in enumerate(df_images):\n",
        "        # Load the image\n",
        "        im = load_img(image, target_size=(IMG_WIDTH, IMG_HEIGHT))\n",
        "        # Convert to numpy array\n",
        "        imArray = img_to_array(im)\n",
        "        # Determine the labels for each image\n",
        "        X[count,:] = imArray\n",
        "        y[count,0] = label_num\n",
        "        count += 1"
      ],
      "execution_count": null,
      "outputs": [
        {
          "output_type": "stream",
          "text": [
            "100%|██████████| 10/10 [42:03<00:00, 252.34s/it]\n"
          ],
          "name": "stderr"
        }
      ]
    },
    {
      "cell_type": "code",
      "metadata": {
        "colab": {
          "base_uri": "https://localhost:8080/"
        },
        "id": "pMf9xbyPu9qc",
        "outputId": "24874fd1-eb93-405c-8d22-3e652d6a3e1f"
      },
      "source": [
        "X.shape\n",
        "y.shape"
      ],
      "execution_count": null,
      "outputs": [
        {
          "output_type": "execute_result",
          "data": {
            "text/plain": [
              "(8258, 224, 224, 3)"
            ]
          },
          "metadata": {
            "tags": []
          },
          "execution_count": 14
        },
        {
          "output_type": "execute_result",
          "data": {
            "text/plain": [
              "(8258, 1)"
            ]
          },
          "metadata": {
            "tags": []
          },
          "execution_count": 14
        }
      ]
    },
    {
      "cell_type": "code",
      "metadata": {
        "id": "YLYlOPkytd-p"
      },
      "source": [
        "label_im = []\n",
        "total_im = []\n",
        "for k in range(len(val_images)):\n",
        "  trainfd = val_images[k] + \"/\"\n",
        "  label = trainfd.split('/content/gdrive/My Drive/MSDS_458_Deep_Learning/Assignment 4/imagewoof2/test/')[1].split(\"/\")[0]\n",
        "  label_im.append(label)\n",
        "  train_images_tmp = [trainfd+i for i in os.listdir(trainfd)]\n",
        "  df_images = train_images_tmp\n",
        "  total_im.append(len(df_images))"
      ],
      "execution_count": null,
      "outputs": []
    },
    {
      "cell_type": "code",
      "metadata": {
        "colab": {
          "base_uri": "https://localhost:8080/",
          "height": 363
        },
        "id": "q7Ef2xmdtd4c",
        "outputId": "1f2964f7-e58c-4683-fa4f-ab82d9c3d1f0"
      },
      "source": [
        "d = {'Labels': label_im,\n",
        "     'Total': total_im}\n",
        "\n",
        "dog_df = pd.DataFrame(d)\n",
        "dog_df"
      ],
      "execution_count": null,
      "outputs": [
        {
          "output_type": "execute_result",
          "data": {
            "text/html": [
              "<div>\n",
              "<style scoped>\n",
              "    .dataframe tbody tr th:only-of-type {\n",
              "        vertical-align: middle;\n",
              "    }\n",
              "\n",
              "    .dataframe tbody tr th {\n",
              "        vertical-align: top;\n",
              "    }\n",
              "\n",
              "    .dataframe thead th {\n",
              "        text-align: right;\n",
              "    }\n",
              "</style>\n",
              "<table border=\"1\" class=\"dataframe\">\n",
              "  <thead>\n",
              "    <tr style=\"text-align: right;\">\n",
              "      <th></th>\n",
              "      <th>Labels</th>\n",
              "      <th>Total</th>\n",
              "    </tr>\n",
              "  </thead>\n",
              "  <tbody>\n",
              "    <tr>\n",
              "      <th>0</th>\n",
              "      <td>golden_retriever</td>\n",
              "      <td>401</td>\n",
              "    </tr>\n",
              "    <tr>\n",
              "      <th>1</th>\n",
              "      <td>old_english_sheepdog</td>\n",
              "      <td>422</td>\n",
              "    </tr>\n",
              "    <tr>\n",
              "      <th>2</th>\n",
              "      <td>australian_terrier</td>\n",
              "      <td>407</td>\n",
              "    </tr>\n",
              "    <tr>\n",
              "      <th>3</th>\n",
              "      <td>samoyed</td>\n",
              "      <td>429</td>\n",
              "    </tr>\n",
              "    <tr>\n",
              "      <th>4</th>\n",
              "      <td>shih-tzu</td>\n",
              "      <td>409</td>\n",
              "    </tr>\n",
              "    <tr>\n",
              "      <th>5</th>\n",
              "      <td>beagle</td>\n",
              "      <td>224</td>\n",
              "    </tr>\n",
              "    <tr>\n",
              "      <th>6</th>\n",
              "      <td>border_terrier</td>\n",
              "      <td>401</td>\n",
              "    </tr>\n",
              "    <tr>\n",
              "      <th>7</th>\n",
              "      <td>rhodesian_ridgeback</td>\n",
              "      <td>408</td>\n",
              "    </tr>\n",
              "    <tr>\n",
              "      <th>8</th>\n",
              "      <td>english_foxhound</td>\n",
              "      <td>418</td>\n",
              "    </tr>\n",
              "    <tr>\n",
              "      <th>9</th>\n",
              "      <td>pembroke-welsh-corgi</td>\n",
              "      <td>41</td>\n",
              "    </tr>\n",
              "  </tbody>\n",
              "</table>\n",
              "</div>"
            ],
            "text/plain": [
              "                 Labels  Total\n",
              "0      golden_retriever    401\n",
              "1  old_english_sheepdog    422\n",
              "2    australian_terrier    407\n",
              "3               samoyed    429\n",
              "4              shih-tzu    409\n",
              "5                beagle    224\n",
              "6        border_terrier    401\n",
              "7   rhodesian_ridgeback    408\n",
              "8      english_foxhound    418\n",
              "9  pembroke-welsh-corgi     41"
            ]
          },
          "metadata": {
            "tags": []
          },
          "execution_count": 16
        }
      ]
    },
    {
      "cell_type": "code",
      "metadata": {
        "colab": {
          "base_uri": "https://localhost:8080/"
        },
        "id": "_m5N6Vi1tdx0",
        "outputId": "ae2b7487-1e75-459c-8527-0691d7c795f3"
      },
      "source": [
        "m = dog_df['Total'].sum()\n",
        "m"
      ],
      "execution_count": null,
      "outputs": [
        {
          "output_type": "execute_result",
          "data": {
            "text/plain": [
              "3560"
            ]
          },
          "metadata": {
            "tags": []
          },
          "execution_count": 17
        }
      ]
    },
    {
      "cell_type": "code",
      "metadata": {
        "id": "vgFwPe4stdrG"
      },
      "source": [
        "X_val = np.ndarray((m, IMG_WIDTH, IMG_HEIGHT, 3), dtype=np.uint8)\n",
        "y_val = np.zeros((m,1))"
      ],
      "execution_count": null,
      "outputs": []
    },
    {
      "cell_type": "code",
      "metadata": {
        "colab": {
          "base_uri": "https://localhost:8080/"
        },
        "id": "xR2fj3H-tdh1",
        "outputId": "a8567135-a717-47a2-f872-4de0533158f1"
      },
      "source": [
        "count = 0\n",
        "for k in tqdm(range(len(val_images))):\n",
        "    trainfd = val_images[k] + \"/\"\n",
        "    label = trainfd.split('/content/gdrive/My Drive/MSDS_458_Deep_Learning/Assignment 4/imagewoof2/test/')[1].split(\"/\")[0]\n",
        "    label_num = classes[label]\n",
        "    train_images_tmp = [trainfd+i for i in os.listdir(trainfd)]\n",
        "    df_images = train_images_tmp\n",
        "    #Find the total number of images\n",
        "    m = len(df_images)\n",
        "    #Create an array to put the data\n",
        "    for i, image in enumerate(df_images):\n",
        "        # Load the image\n",
        "        im = load_img(image, target_size=(IMG_WIDTH, IMG_HEIGHT))\n",
        "        # Convert to numpy array\n",
        "        imArray = img_to_array(im)\n",
        "        # Determine the labels for each image\n",
        "        X_val[count,:] = imArray\n",
        "        y_val[count,0] = label_num\n",
        "        count += 1"
      ],
      "execution_count": null,
      "outputs": [
        {
          "output_type": "stream",
          "text": [
            "100%|██████████| 10/10 [19:57<00:00, 119.80s/it]\n"
          ],
          "name": "stderr"
        }
      ]
    },
    {
      "cell_type": "code",
      "metadata": {
        "colab": {
          "base_uri": "https://localhost:8080/"
        },
        "id": "oEUzYr1hu2-j",
        "outputId": "473700e3-396c-4455-83be-9575e44a1480"
      },
      "source": [
        "X_val.shape\n",
        "y_val.shape"
      ],
      "execution_count": null,
      "outputs": [
        {
          "output_type": "execute_result",
          "data": {
            "text/plain": [
              "(3560, 224, 224, 3)"
            ]
          },
          "metadata": {
            "tags": []
          },
          "execution_count": 20
        },
        {
          "output_type": "execute_result",
          "data": {
            "text/plain": [
              "(3560, 1)"
            ]
          },
          "metadata": {
            "tags": []
          },
          "execution_count": 20
        }
      ]
    },
    {
      "cell_type": "code",
      "metadata": {
        "id": "kQLTm8UJwG4S"
      },
      "source": [
        "x_train_norm = X.astype('float32') / 255"
      ],
      "execution_count": null,
      "outputs": []
    },
    {
      "cell_type": "code",
      "metadata": {
        "id": "Sp3H--lowGwy"
      },
      "source": [
        "x_val_norm = X_val.astype('float32') / 255"
      ],
      "execution_count": null,
      "outputs": []
    },
    {
      "cell_type": "code",
      "metadata": {
        "id": "AvIFBEd9wGnu"
      },
      "source": [
        "Y_train = np.array(y).astype(int)"
      ],
      "execution_count": null,
      "outputs": []
    },
    {
      "cell_type": "code",
      "metadata": {
        "id": "J-bJG0E8wXeo"
      },
      "source": [
        "Y_val = np.array(y_val).astype(int)"
      ],
      "execution_count": null,
      "outputs": []
    },
    {
      "cell_type": "code",
      "metadata": {
        "id": "iFGisCe-BLdv"
      },
      "source": [
        "target_train = Y_train.flatten()\n",
        "target_val = Y_val.flatten()"
      ],
      "execution_count": null,
      "outputs": []
    },
    {
      "cell_type": "code",
      "metadata": {
        "id": "5AkXCd5Rwkqb"
      },
      "source": [
        "y_train_encoded = to_categorical(Y_train)"
      ],
      "execution_count": null,
      "outputs": []
    },
    {
      "cell_type": "code",
      "metadata": {
        "id": "RgnaVF0owkd8"
      },
      "source": [
        "y_val_encoded = to_categorical(Y_val)"
      ],
      "execution_count": null,
      "outputs": []
    },
    {
      "cell_type": "code",
      "metadata": {
        "id": "RONGP5sVqzDi"
      },
      "source": [
        "def predict_classes(x):\n",
        "    y_pred_lst = []\n",
        "\n",
        "    for i in range(len(x)):\n",
        "        y_pred = x[i]\n",
        "        y_pred = y_pred.flatten()\n",
        "        max_target = np.max(y_pred)\n",
        "\n",
        "        for j in range(len(y_pred)):\n",
        "            if y_pred[j]==np.max(y_pred):\n",
        "                y_pred_lst.append(j)\n",
        "    return y_pred_lst"
      ],
      "execution_count": null,
      "outputs": []
    },
    {
      "cell_type": "code",
      "metadata": {
        "id": "k5EggaCJLaeJ"
      },
      "source": [
        "def model_maker():\n",
        "  base_model = MobileNet(include_top=False, input_shape=(IMG_WIDTH, IMG_HEIGHT, 3))\n",
        "  for layer in base_model.layers[:]:\n",
        "    layer.trainable = False\n",
        "  input = Input(shape=(IMG_WIDTH, IMG_HEIGHT, 3))\n",
        "  custom_model = base_model(input)\n",
        "  custom_model = GlobalAveragePooling2D()(custom_model)\n",
        "  custom_model = Dense(64, activation='relu')(custom_model)\n",
        "  custom_model = Dropout(0.5)(custom_model)\n",
        "  predictions = Dense(NUM_CLASSES, activation='softmax')(custom_model)\n",
        "  return Model(inputs=input, outputs=predictions)"
      ],
      "execution_count": null,
      "outputs": []
    },
    {
      "cell_type": "code",
      "metadata": {
        "id": "y9v2FGFttiPW",
        "colab": {
          "base_uri": "https://localhost:8080/"
        },
        "outputId": "038aff26-c60d-4aae-afcf-323370918abb"
      },
      "source": [
        "model = model_maker()"
      ],
      "execution_count": null,
      "outputs": [
        {
          "output_type": "stream",
          "text": [
            "Downloading data from https://storage.googleapis.com/tensorflow/keras-applications/mobilenet/mobilenet_1_0_224_tf_no_top.h5\n",
            "17227776/17225924 [==============================] - 0s 0us/step\n"
          ],
          "name": "stdout"
        }
      ]
    },
    {
      "cell_type": "code",
      "metadata": {
        "colab": {
          "base_uri": "https://localhost:8080/"
        },
        "id": "SAwtVPYOBTRZ",
        "outputId": "b9e6b5fb-56ff-4916-eadf-56b5ea156ea9"
      },
      "source": [
        "model.summary()"
      ],
      "execution_count": null,
      "outputs": [
        {
          "output_type": "stream",
          "text": [
            "Model: \"model\"\n",
            "_________________________________________________________________\n",
            "Layer (type)                 Output Shape              Param #   \n",
            "=================================================================\n",
            "input_2 (InputLayer)         [(None, 224, 224, 3)]     0         \n",
            "_________________________________________________________________\n",
            "mobilenet_1.00_224 (Function (None, 7, 7, 1024)        3228864   \n",
            "_________________________________________________________________\n",
            "global_average_pooling2d (Gl (None, 1024)              0         \n",
            "_________________________________________________________________\n",
            "dense (Dense)                (None, 64)                65600     \n",
            "_________________________________________________________________\n",
            "dropout (Dropout)            (None, 64)                0         \n",
            "_________________________________________________________________\n",
            "dense_1 (Dense)              (None, 10)                650       \n",
            "=================================================================\n",
            "Total params: 3,295,114\n",
            "Trainable params: 66,250\n",
            "Non-trainable params: 3,228,864\n",
            "_________________________________________________________________\n"
          ],
          "name": "stdout"
        }
      ]
    },
    {
      "cell_type": "code",
      "metadata": {
        "id": "QoHYXvDasoCb"
      },
      "source": [
        "# hyperparameters\n",
        "ETA = 0.001\n",
        "EPOCH = 500\n",
        "opt = Adam(learning_rate=ETA)\n",
        "\n",
        "model.compile(loss='categorical_crossentropy', optimizer=opt, metrics=['accuracy'])\n",
        "\n",
        "checkpoint_cb = EarlyStopping(patience=10, restore_best_weights=True)"
      ],
      "execution_count": null,
      "outputs": []
    },
    {
      "cell_type": "code",
      "metadata": {
        "colab": {
          "base_uri": "https://localhost:8080/"
        },
        "id": "v3SMP4uFtA0G",
        "outputId": "ecf65c25-ef2b-4cc2-d455-9479113e50bc"
      },
      "source": [
        "# Record the start time\n",
        "start=datetime.now()\n",
        "\n",
        "history = model.fit(x_train_norm,\n",
        "                    y_train_encoded,\n",
        "                    batch_size=BATCH_SIZE,\n",
        "                    epochs=EPOCH,\n",
        "                    verbose=1,\n",
        "                    validation_data=(x_val_norm, y_val_encoded),\n",
        "                    callbacks=[checkpoint_cb],\n",
        "                    workers=4)\n",
        "\n",
        "# Record the end time\n",
        "end=datetime.now()\n",
        "print(end-start)"
      ],
      "execution_count": null,
      "outputs": [
        {
          "output_type": "stream",
          "text": [
            "Epoch 1/500\n",
            "130/130 [==============================] - 27s 75ms/step - loss: 1.4722 - accuracy: 0.5071 - val_loss: 0.2606 - val_accuracy: 0.9199\n",
            "Epoch 2/500\n",
            "130/130 [==============================] - 9s 69ms/step - loss: 0.4474 - accuracy: 0.8498 - val_loss: 0.2080 - val_accuracy: 0.9354\n",
            "Epoch 3/500\n",
            "130/130 [==============================] - 9s 68ms/step - loss: 0.3557 - accuracy: 0.8804 - val_loss: 0.1874 - val_accuracy: 0.9407\n",
            "Epoch 4/500\n",
            "130/130 [==============================] - 9s 68ms/step - loss: 0.2783 - accuracy: 0.9051 - val_loss: 0.1865 - val_accuracy: 0.9402\n",
            "Epoch 5/500\n",
            "130/130 [==============================] - 9s 69ms/step - loss: 0.3012 - accuracy: 0.9021 - val_loss: 0.1790 - val_accuracy: 0.9413\n",
            "Epoch 6/500\n",
            "130/130 [==============================] - 9s 68ms/step - loss: 0.2695 - accuracy: 0.9083 - val_loss: 0.1748 - val_accuracy: 0.9421\n",
            "Epoch 7/500\n",
            "130/130 [==============================] - 9s 69ms/step - loss: 0.2164 - accuracy: 0.9278 - val_loss: 0.1746 - val_accuracy: 0.9407\n",
            "Epoch 8/500\n",
            "130/130 [==============================] - 9s 68ms/step - loss: 0.1942 - accuracy: 0.9352 - val_loss: 0.1715 - val_accuracy: 0.9447\n",
            "Epoch 9/500\n",
            "130/130 [==============================] - 9s 69ms/step - loss: 0.2034 - accuracy: 0.9283 - val_loss: 0.1698 - val_accuracy: 0.9427\n",
            "Epoch 10/500\n",
            "130/130 [==============================] - 9s 68ms/step - loss: 0.1783 - accuracy: 0.9376 - val_loss: 0.1710 - val_accuracy: 0.9419\n",
            "Epoch 11/500\n",
            "130/130 [==============================] - 9s 68ms/step - loss: 0.1590 - accuracy: 0.9475 - val_loss: 0.1663 - val_accuracy: 0.9433\n",
            "Epoch 12/500\n",
            "130/130 [==============================] - 9s 68ms/step - loss: 0.1602 - accuracy: 0.9465 - val_loss: 0.1656 - val_accuracy: 0.9452\n",
            "Epoch 13/500\n",
            "130/130 [==============================] - 9s 68ms/step - loss: 0.1737 - accuracy: 0.9424 - val_loss: 0.1695 - val_accuracy: 0.9447\n",
            "Epoch 14/500\n",
            "130/130 [==============================] - 9s 68ms/step - loss: 0.1486 - accuracy: 0.9453 - val_loss: 0.1794 - val_accuracy: 0.9427\n",
            "Epoch 15/500\n",
            "130/130 [==============================] - 9s 69ms/step - loss: 0.2004 - accuracy: 0.9331 - val_loss: 0.1694 - val_accuracy: 0.9455\n",
            "Epoch 16/500\n",
            "130/130 [==============================] - 9s 69ms/step - loss: 0.1462 - accuracy: 0.9467 - val_loss: 0.1707 - val_accuracy: 0.9452\n",
            "Epoch 17/500\n",
            "130/130 [==============================] - 9s 68ms/step - loss: 0.1311 - accuracy: 0.9544 - val_loss: 0.1712 - val_accuracy: 0.9478\n",
            "Epoch 18/500\n",
            "130/130 [==============================] - 9s 69ms/step - loss: 0.1341 - accuracy: 0.9548 - val_loss: 0.1780 - val_accuracy: 0.9430\n",
            "Epoch 19/500\n",
            "130/130 [==============================] - 9s 68ms/step - loss: 0.1526 - accuracy: 0.9423 - val_loss: 0.1850 - val_accuracy: 0.9435\n",
            "Epoch 20/500\n",
            "130/130 [==============================] - 9s 68ms/step - loss: 0.1179 - accuracy: 0.9605 - val_loss: 0.1750 - val_accuracy: 0.9475\n",
            "Epoch 21/500\n",
            "130/130 [==============================] - 9s 68ms/step - loss: 0.1107 - accuracy: 0.9592 - val_loss: 0.1694 - val_accuracy: 0.9483\n",
            "Epoch 22/500\n",
            "130/130 [==============================] - 9s 69ms/step - loss: 0.1850 - accuracy: 0.9404 - val_loss: 0.1737 - val_accuracy: 0.9472\n",
            "0:03:33.694650\n"
          ],
          "name": "stdout"
        }
      ]
    },
    {
      "cell_type": "code",
      "metadata": {
        "id": "567188s5yOT9"
      },
      "source": [
        "# Calling `save('my_model.h5')` creates a h5 file `my_model.h5`.\n",
        "model.save(work_dir + \"my_h5_model_exp2x2.h5\")"
      ],
      "execution_count": null,
      "outputs": []
    },
    {
      "cell_type": "code",
      "metadata": {
        "id": "GUPUgryiT7Vf"
      },
      "source": [
        "from tensorflow.keras.models import load_model\n",
        "model = load_model(work_dir + \"my_h5_model_exp2x2.h5\")"
      ],
      "execution_count": null,
      "outputs": []
    },
    {
      "cell_type": "code",
      "metadata": {
        "colab": {
          "base_uri": "https://localhost:8080/"
        },
        "id": "4tqCQQDJrBBw",
        "outputId": "ed6a70d5-4bc8-4cdc-ab0d-86970357eff4"
      },
      "source": [
        "score = model.evaluate(x_train_norm, y_train_encoded, verbose=0)\n",
        "print(\"Train loss:\", round(score[0],3))\n",
        "print(\"Train accuracy:\", round(score[1],3))"
      ],
      "execution_count": null,
      "outputs": [
        {
          "output_type": "stream",
          "text": [
            "Train loss: 0.04\n",
            "Train accuracy: 0.989\n"
          ],
          "name": "stdout"
        }
      ]
    },
    {
      "cell_type": "code",
      "metadata": {
        "colab": {
          "base_uri": "https://localhost:8080/"
        },
        "id": "xcHeXwZ6rOkr",
        "outputId": "edaae895-010e-4104-9870-a9bacb643334"
      },
      "source": [
        "score = model.evaluate(x_val_norm, y_val_encoded, verbose=0)\n",
        "print(\"Val loss:\", round(score[0],3))\n",
        "print(\"Val accuracy:\", round(score[1],3))"
      ],
      "execution_count": null,
      "outputs": [
        {
          "output_type": "stream",
          "text": [
            "Val loss: 0.166\n",
            "Val accuracy: 0.945\n"
          ],
          "name": "stdout"
        }
      ]
    },
    {
      "cell_type": "code",
      "metadata": {
        "id": "CrnNBIEeD4yX"
      },
      "source": [
        "# Get the predicted classes:\n",
        "pred_train = model.predict(x_train_norm)\n",
        "pred_val = model.predict(x_val_norm)"
      ],
      "execution_count": null,
      "outputs": []
    },
    {
      "cell_type": "code",
      "metadata": {
        "id": "WT0pqwBjD65Q"
      },
      "source": [
        "y_pred_train = predict_classes(pred_train)\n",
        "y_pred_val = predict_classes(pred_val)"
      ],
      "execution_count": null,
      "outputs": []
    },
    {
      "cell_type": "code",
      "metadata": {
        "id": "bHcc6Zakrq-U"
      },
      "source": [
        "dict = history.history\n",
        "\n",
        "d = {'loss': dict['loss'],\n",
        "     'acc': dict['accuracy'],\n",
        "     'val_loss': dict['val_loss'],\n",
        "     'val_acc': dict['val_accuracy']}\n",
        "\n",
        "history_df = pd.DataFrame(d)"
      ],
      "execution_count": null,
      "outputs": []
    },
    {
      "cell_type": "code",
      "metadata": {
        "colab": {
          "base_uri": "https://localhost:8080/",
          "height": 414
        },
        "id": "kLDclwrgpvur",
        "outputId": "060d554f-663c-4466-b491-d807c54a63ef"
      },
      "source": [
        "#figure\n",
        "fig, ax = plt.subplots()\n",
        "fig.set_size_inches(12, 6)\n",
        "\n",
        "#labels\n",
        "# Title\n",
        "ax.set_title('', fontsize=16)\n",
        "# x-axis\n",
        "ax.set_xlabel('Epoch', fontsize=14)\n",
        "# y-axis\n",
        "color = 'tab:red'\n",
        "ax.set_ylabel('Accuracy')\n",
        "\n",
        "plt.plot(history_df['acc'], \"o\", color=color, label=\"Training\")\n",
        " \n",
        "color = 'tab:blue'\n",
        "plt.plot(history_df['val_acc'], \"-\", color=color, label=\"Validation\")\n",
        "\n",
        "\n",
        "ax.grid(True)\n",
        "plt.legend()\n",
        "plt.show()"
      ],
      "execution_count": null,
      "outputs": [
        {
          "output_type": "execute_result",
          "data": {
            "text/plain": [
              "Text(0.5, 1.0, '')"
            ]
          },
          "metadata": {
            "tags": []
          },
          "execution_count": 38
        },
        {
          "output_type": "execute_result",
          "data": {
            "text/plain": [
              "Text(0.5, 0, 'Epoch')"
            ]
          },
          "metadata": {
            "tags": []
          },
          "execution_count": 38
        },
        {
          "output_type": "execute_result",
          "data": {
            "text/plain": [
              "Text(0, 0.5, 'Accuracy')"
            ]
          },
          "metadata": {
            "tags": []
          },
          "execution_count": 38
        },
        {
          "output_type": "execute_result",
          "data": {
            "text/plain": [
              "[<matplotlib.lines.Line2D at 0x7f1a6a5d6c50>]"
            ]
          },
          "metadata": {
            "tags": []
          },
          "execution_count": 38
        },
        {
          "output_type": "execute_result",
          "data": {
            "text/plain": [
              "[<matplotlib.lines.Line2D at 0x7f1a6a47ecd0>]"
            ]
          },
          "metadata": {
            "tags": []
          },
          "execution_count": 38
        },
        {
          "output_type": "execute_result",
          "data": {
            "text/plain": [
              "<matplotlib.legend.Legend at 0x7f1a6a416210>"
            ]
          },
          "metadata": {
            "tags": []
          },
          "execution_count": 38
        },
        {
          "output_type": "display_data",
          "data": {
            "image/png": "[encoded data removed]",
            "text/plain": [
              "<Figure size 864x432 with 1 Axes>"
            ]
          },
          "metadata": {
            "tags": [],
            "needs_background": "light"
          }
        }
      ]
    },
    {
      "cell_type": "code",
      "metadata": {
        "colab": {
          "base_uri": "https://localhost:8080/",
          "height": 414
        },
        "id": "ajpbqQdEr1Yg",
        "outputId": "9ade156c-3348-40e0-db34-614eadc7fdc2"
      },
      "source": [
        "#figure\n",
        "fig, ax = plt.subplots()\n",
        "fig.set_size_inches(12, 6)\n",
        "\n",
        "#labels\n",
        "# Title\n",
        "ax.set_title('', fontsize=16)\n",
        "# x-axis\n",
        "ax.set_xlabel('Epoch', fontsize=14)\n",
        "# y-axis\n",
        "color = 'tab:red'\n",
        "ax.set_ylabel('Loss')\n",
        "\n",
        "plt.plot(history_df['loss'], \"o\", color=color, label=\"Training\")\n",
        " \n",
        "color = 'tab:blue'\n",
        "plt.plot(history_df['val_loss'], \"-\", color=color, label=\"Validation\")\n",
        "\n",
        "\n",
        "ax.grid(True)\n",
        "plt.legend()\n",
        "plt.show()"
      ],
      "execution_count": null,
      "outputs": [
        {
          "output_type": "execute_result",
          "data": {
            "text/plain": [
              "Text(0.5, 1.0, '')"
            ]
          },
          "metadata": {
            "tags": []
          },
          "execution_count": 39
        },
        {
          "output_type": "execute_result",
          "data": {
            "text/plain": [
              "Text(0.5, 0, 'Epoch')"
            ]
          },
          "metadata": {
            "tags": []
          },
          "execution_count": 39
        },
        {
          "output_type": "execute_result",
          "data": {
            "text/plain": [
              "Text(0, 0.5, 'Loss')"
            ]
          },
          "metadata": {
            "tags": []
          },
          "execution_count": 39
        },
        {
          "output_type": "execute_result",
          "data": {
            "text/plain": [
              "[<matplotlib.lines.Line2D at 0x7f1a6a54d690>]"
            ]
          },
          "metadata": {
            "tags": []
          },
          "execution_count": 39
        },
        {
          "output_type": "execute_result",
          "data": {
            "text/plain": [
              "[<matplotlib.lines.Line2D at 0x7f1a6a54d410>]"
            ]
          },
          "metadata": {
            "tags": []
          },
          "execution_count": 39
        },
        {
          "output_type": "execute_result",
          "data": {
            "text/plain": [
              "<matplotlib.legend.Legend at 0x7f1a6a4d9290>"
            ]
          },
          "metadata": {
            "tags": []
          },
          "execution_count": 39
        },
        {
          "output_type": "display_data",
          "data": {
            "image/png": "[encoded data removed]",
            "text/plain": [
              "<Figure size 864x432 with 1 Axes>"
            ]
          },
          "metadata": {
            "tags": [],
            "needs_background": "light"
          }
        }
      ]
    },
    {
      "cell_type": "code",
      "metadata": {
        "colab": {
          "base_uri": "https://localhost:8080/",
          "height": 424
        },
        "id": "ZhvNJlFYr6Cj",
        "outputId": "b9ad4c8b-c17a-4112-e740-aa910177c2b7"
      },
      "source": [
        "cm = pd.DataFrame({'True': target_train,\n",
        "                   'Predict': y_pred_train})\n",
        "cm"
      ],
      "execution_count": null,
      "outputs": [
        {
          "output_type": "execute_result",
          "data": {
            "text/html": [
              "<div>\n",
              "<style scoped>\n",
              "    .dataframe tbody tr th:only-of-type {\n",
              "        vertical-align: middle;\n",
              "    }\n",
              "\n",
              "    .dataframe tbody tr th {\n",
              "        vertical-align: top;\n",
              "    }\n",
              "\n",
              "    .dataframe thead th {\n",
              "        text-align: right;\n",
              "    }\n",
              "</style>\n",
              "<table border=\"1\" class=\"dataframe\">\n",
              "  <thead>\n",
              "    <tr style=\"text-align: right;\">\n",
              "      <th></th>\n",
              "      <th>True</th>\n",
              "      <th>Predict</th>\n",
              "    </tr>\n",
              "  </thead>\n",
              "  <tbody>\n",
              "    <tr>\n",
              "      <th>0</th>\n",
              "      <td>0</td>\n",
              "      <td>0</td>\n",
              "    </tr>\n",
              "    <tr>\n",
              "      <th>1</th>\n",
              "      <td>0</td>\n",
              "      <td>0</td>\n",
              "    </tr>\n",
              "    <tr>\n",
              "      <th>2</th>\n",
              "      <td>0</td>\n",
              "      <td>0</td>\n",
              "    </tr>\n",
              "    <tr>\n",
              "      <th>3</th>\n",
              "      <td>0</td>\n",
              "      <td>0</td>\n",
              "    </tr>\n",
              "    <tr>\n",
              "      <th>4</th>\n",
              "      <td>0</td>\n",
              "      <td>0</td>\n",
              "    </tr>\n",
              "    <tr>\n",
              "      <th>...</th>\n",
              "      <td>...</td>\n",
              "      <td>...</td>\n",
              "    </tr>\n",
              "    <tr>\n",
              "      <th>8253</th>\n",
              "      <td>9</td>\n",
              "      <td>9</td>\n",
              "    </tr>\n",
              "    <tr>\n",
              "      <th>8254</th>\n",
              "      <td>9</td>\n",
              "      <td>9</td>\n",
              "    </tr>\n",
              "    <tr>\n",
              "      <th>8255</th>\n",
              "      <td>9</td>\n",
              "      <td>9</td>\n",
              "    </tr>\n",
              "    <tr>\n",
              "      <th>8256</th>\n",
              "      <td>9</td>\n",
              "      <td>9</td>\n",
              "    </tr>\n",
              "    <tr>\n",
              "      <th>8257</th>\n",
              "      <td>9</td>\n",
              "      <td>9</td>\n",
              "    </tr>\n",
              "  </tbody>\n",
              "</table>\n",
              "<p>8258 rows × 2 columns</p>\n",
              "</div>"
            ],
            "text/plain": [
              "      True  Predict\n",
              "0        0        0\n",
              "1        0        0\n",
              "2        0        0\n",
              "3        0        0\n",
              "4        0        0\n",
              "...    ...      ...\n",
              "8253     9        9\n",
              "8254     9        9\n",
              "8255     9        9\n",
              "8256     9        9\n",
              "8257     9        9\n",
              "\n",
              "[8258 rows x 2 columns]"
            ]
          },
          "metadata": {
            "tags": []
          },
          "execution_count": 43
        }
      ]
    },
    {
      "cell_type": "code",
      "metadata": {
        "id": "3aEGemh0syX7"
      },
      "source": [
        "import itertools\n",
        "from sklearn.metrics import confusion_matrix\n",
        "\n",
        "def plot_confusion_matrix(cm, classes,\n",
        "                          normalize=False,\n",
        "                          title='Confusion matrix',\n",
        "                          cmap=plt.cm.Blues):\n",
        "    \"\"\"\n",
        "    This function prints and plots the confusion matrix.\n",
        "    Normalization can be applied by setting `normalize=True`.\n",
        "    \"\"\"\n",
        "    fig, ax = plt.subplots()\n",
        "    fig.set_size_inches(12, 10)\n",
        "    plt.imshow(cm, interpolation='nearest', cmap=cmap)\n",
        "    plt.title(title)\n",
        "    plt.colorbar()\n",
        "    tick_marks = np.arange(len(classes))\n",
        "    plt.xticks(tick_marks, classes, rotation=45)\n",
        "    plt.yticks(tick_marks, classes)\n",
        "\n",
        "    if normalize:\n",
        "        cm = cm.astype('float') / cm.sum(axis=1)[:, np.newaxis]\n",
        "\n",
        "    thresh = cm.max() / 2.\n",
        "    for i, j in itertools.product(range(cm.shape[0]), range(cm.shape[1])):\n",
        "        plt.text(j, i, cm[i, j],\n",
        "                 horizontalalignment=\"center\",\n",
        "                 color=\"white\" if cm[i, j] > thresh else \"black\")\n",
        "\n",
        "    plt.tight_layout()\n",
        "    plt.ylabel('True label')\n",
        "    plt.xlabel('Predicted label')"
      ],
      "execution_count": null,
      "outputs": []
    },
    {
      "cell_type": "code",
      "metadata": {
        "colab": {
          "base_uri": "https://localhost:8080/"
        },
        "id": "tZ3A4Fvysy2w",
        "outputId": "9b8dd733-345a-437c-fb4f-3bace64baaf8"
      },
      "source": [
        "cf_matrix = confusion_matrix(cm['True'], cm['Predict'])\n",
        "cf_matrix"
      ],
      "execution_count": null,
      "outputs": [
        {
          "output_type": "execute_result",
          "data": {
            "text/plain": [
              "array([[936,   1,   0,   3,   0,   2,   1,   0,   0,   0],\n",
              "       [  2, 941,   0,   1,   1,   0,   1,   3,   0,   0],\n",
              "       [  0,   0, 916,   1,   3,   0,   0,   0,  12,   0],\n",
              "       [  2,   0,   0, 932,   1,   3,   1,   2,   0,   0],\n",
              "       [  1,   0,   0,   0, 939,   0,   0,   0,   2,   0],\n",
              "       [  4,   0,   0,   2,   0, 922,   0,   0,   0,   0],\n",
              "       [  4,   0,   0,   0,   0,   2, 941,   0,   0,   2],\n",
              "       [  0,   0,   0,   0,   0,   0,   0, 921,   0,   0],\n",
              "       [  0,   0,  30,   0,   2,   0,   0,   0, 557,   0],\n",
              "       [  0,   0,   0,   0,   0,   0,   0,   0,   0, 164]])"
            ]
          },
          "metadata": {
            "tags": []
          },
          "execution_count": 45
        }
      ]
    },
    {
      "cell_type": "code",
      "metadata": {
        "colab": {
          "base_uri": "https://localhost:8080/",
          "height": 750
        },
        "id": "jiM3YuJhs3E3",
        "outputId": "a109d95e-2931-481f-9cb3-915b4f1d7e93"
      },
      "source": [
        "# plot the confusion matrix\n",
        "plot_confusion_matrix(cf_matrix, classes = range(10))"
      ],
      "execution_count": null,
      "outputs": [
        {
          "output_type": "display_data",
          "data": {
            "image/png": "[encoded data removed]",
            "text/plain": [
              "<Figure size 864x720 with 2 Axes>"
            ]
          },
          "metadata": {
            "tags": [],
            "needs_background": "light"
          }
        }
      ]
    },
    {
      "cell_type": "code",
      "metadata": {
        "colab": {
          "base_uri": "https://localhost:8080/"
        },
        "id": "ExCDbdVFs69k",
        "outputId": "f6d5e341-e927-4a12-8496-953bbd47d24c"
      },
      "source": [
        "cm_zero = (cf_matrix[0]/cf_matrix[0].sum()) * 100\n",
        "cm_zero"
      ],
      "execution_count": null,
      "outputs": [
        {
          "output_type": "execute_result",
          "data": {
            "text/plain": [
              "array([99.25768823,  0.10604454,  0.        ,  0.31813362,  0.        ,\n",
              "        0.21208908,  0.10604454,  0.        ,  0.        ,  0.        ])"
            ]
          },
          "metadata": {
            "tags": []
          },
          "execution_count": 47
        }
      ]
    },
    {
      "cell_type": "code",
      "metadata": {
        "id": "1Fir4gM2s-Ec"
      },
      "source": [
        "cm_rate = pd.DataFrame(cm_zero, columns = ['0'])"
      ],
      "execution_count": null,
      "outputs": []
    },
    {
      "cell_type": "code",
      "metadata": {
        "id": "qSjuHGivtAYE"
      },
      "source": [
        "for i in range(1,10):\n",
        "    cm_tmp = (cf_matrix[i]/cf_matrix[i].sum()) * 100\n",
        "    cm_rate[str(i)] = cm_tmp"
      ],
      "execution_count": null,
      "outputs": []
    },
    {
      "cell_type": "code",
      "metadata": {
        "colab": {
          "base_uri": "https://localhost:8080/",
          "height": 363
        },
        "id": "eVkghp2CtDPd",
        "outputId": "17490246-7a0c-4c67-e80e-4f1af07f458f"
      },
      "source": [
        "cm_rate = cm_rate.round(2)\n",
        "cm_rate = cm_rate.T\n",
        "cm_rate"
      ],
      "execution_count": null,
      "outputs": [
        {
          "output_type": "execute_result",
          "data": {
            "text/html": [
              "<div>\n",
              "<style scoped>\n",
              "    .dataframe tbody tr th:only-of-type {\n",
              "        vertical-align: middle;\n",
              "    }\n",
              "\n",
              "    .dataframe tbody tr th {\n",
              "        vertical-align: top;\n",
              "    }\n",
              "\n",
              "    .dataframe thead th {\n",
              "        text-align: right;\n",
              "    }\n",
              "</style>\n",
              "<table border=\"1\" class=\"dataframe\">\n",
              "  <thead>\n",
              "    <tr style=\"text-align: right;\">\n",
              "      <th></th>\n",
              "      <th>0</th>\n",
              "      <th>1</th>\n",
              "      <th>2</th>\n",
              "      <th>3</th>\n",
              "      <th>4</th>\n",
              "      <th>5</th>\n",
              "      <th>6</th>\n",
              "      <th>7</th>\n",
              "      <th>8</th>\n",
              "      <th>9</th>\n",
              "    </tr>\n",
              "  </thead>\n",
              "  <tbody>\n",
              "    <tr>\n",
              "      <th>0</th>\n",
              "      <td>99.26</td>\n",
              "      <td>0.11</td>\n",
              "      <td>0.00</td>\n",
              "      <td>0.32</td>\n",
              "      <td>0.00</td>\n",
              "      <td>0.21</td>\n",
              "      <td>0.11</td>\n",
              "      <td>0.00</td>\n",
              "      <td>0.00</td>\n",
              "      <td>0.00</td>\n",
              "    </tr>\n",
              "    <tr>\n",
              "      <th>1</th>\n",
              "      <td>0.21</td>\n",
              "      <td>99.16</td>\n",
              "      <td>0.00</td>\n",
              "      <td>0.11</td>\n",
              "      <td>0.11</td>\n",
              "      <td>0.00</td>\n",
              "      <td>0.11</td>\n",
              "      <td>0.32</td>\n",
              "      <td>0.00</td>\n",
              "      <td>0.00</td>\n",
              "    </tr>\n",
              "    <tr>\n",
              "      <th>2</th>\n",
              "      <td>0.00</td>\n",
              "      <td>0.00</td>\n",
              "      <td>98.28</td>\n",
              "      <td>0.11</td>\n",
              "      <td>0.32</td>\n",
              "      <td>0.00</td>\n",
              "      <td>0.00</td>\n",
              "      <td>0.00</td>\n",
              "      <td>1.29</td>\n",
              "      <td>0.00</td>\n",
              "    </tr>\n",
              "    <tr>\n",
              "      <th>3</th>\n",
              "      <td>0.21</td>\n",
              "      <td>0.00</td>\n",
              "      <td>0.00</td>\n",
              "      <td>99.04</td>\n",
              "      <td>0.11</td>\n",
              "      <td>0.32</td>\n",
              "      <td>0.11</td>\n",
              "      <td>0.21</td>\n",
              "      <td>0.00</td>\n",
              "      <td>0.00</td>\n",
              "    </tr>\n",
              "    <tr>\n",
              "      <th>4</th>\n",
              "      <td>0.11</td>\n",
              "      <td>0.00</td>\n",
              "      <td>0.00</td>\n",
              "      <td>0.00</td>\n",
              "      <td>99.68</td>\n",
              "      <td>0.00</td>\n",
              "      <td>0.00</td>\n",
              "      <td>0.00</td>\n",
              "      <td>0.21</td>\n",
              "      <td>0.00</td>\n",
              "    </tr>\n",
              "    <tr>\n",
              "      <th>5</th>\n",
              "      <td>0.43</td>\n",
              "      <td>0.00</td>\n",
              "      <td>0.00</td>\n",
              "      <td>0.22</td>\n",
              "      <td>0.00</td>\n",
              "      <td>99.35</td>\n",
              "      <td>0.00</td>\n",
              "      <td>0.00</td>\n",
              "      <td>0.00</td>\n",
              "      <td>0.00</td>\n",
              "    </tr>\n",
              "    <tr>\n",
              "      <th>6</th>\n",
              "      <td>0.42</td>\n",
              "      <td>0.00</td>\n",
              "      <td>0.00</td>\n",
              "      <td>0.00</td>\n",
              "      <td>0.00</td>\n",
              "      <td>0.21</td>\n",
              "      <td>99.16</td>\n",
              "      <td>0.00</td>\n",
              "      <td>0.00</td>\n",
              "      <td>0.21</td>\n",
              "    </tr>\n",
              "    <tr>\n",
              "      <th>7</th>\n",
              "      <td>0.00</td>\n",
              "      <td>0.00</td>\n",
              "      <td>0.00</td>\n",
              "      <td>0.00</td>\n",
              "      <td>0.00</td>\n",
              "      <td>0.00</td>\n",
              "      <td>0.00</td>\n",
              "      <td>100.00</td>\n",
              "      <td>0.00</td>\n",
              "      <td>0.00</td>\n",
              "    </tr>\n",
              "    <tr>\n",
              "      <th>8</th>\n",
              "      <td>0.00</td>\n",
              "      <td>0.00</td>\n",
              "      <td>5.09</td>\n",
              "      <td>0.00</td>\n",
              "      <td>0.34</td>\n",
              "      <td>0.00</td>\n",
              "      <td>0.00</td>\n",
              "      <td>0.00</td>\n",
              "      <td>94.57</td>\n",
              "      <td>0.00</td>\n",
              "    </tr>\n",
              "    <tr>\n",
              "      <th>9</th>\n",
              "      <td>0.00</td>\n",
              "      <td>0.00</td>\n",
              "      <td>0.00</td>\n",
              "      <td>0.00</td>\n",
              "      <td>0.00</td>\n",
              "      <td>0.00</td>\n",
              "      <td>0.00</td>\n",
              "      <td>0.00</td>\n",
              "      <td>0.00</td>\n",
              "      <td>100.00</td>\n",
              "    </tr>\n",
              "  </tbody>\n",
              "</table>\n",
              "</div>"
            ],
            "text/plain": [
              "       0      1      2      3      4      5      6       7      8       9\n",
              "0  99.26   0.11   0.00   0.32   0.00   0.21   0.11    0.00   0.00    0.00\n",
              "1   0.21  99.16   0.00   0.11   0.11   0.00   0.11    0.32   0.00    0.00\n",
              "2   0.00   0.00  98.28   0.11   0.32   0.00   0.00    0.00   1.29    0.00\n",
              "3   0.21   0.00   0.00  99.04   0.11   0.32   0.11    0.21   0.00    0.00\n",
              "4   0.11   0.00   0.00   0.00  99.68   0.00   0.00    0.00   0.21    0.00\n",
              "5   0.43   0.00   0.00   0.22   0.00  99.35   0.00    0.00   0.00    0.00\n",
              "6   0.42   0.00   0.00   0.00   0.00   0.21  99.16    0.00   0.00    0.21\n",
              "7   0.00   0.00   0.00   0.00   0.00   0.00   0.00  100.00   0.00    0.00\n",
              "8   0.00   0.00   5.09   0.00   0.34   0.00   0.00    0.00  94.57    0.00\n",
              "9   0.00   0.00   0.00   0.00   0.00   0.00   0.00    0.00   0.00  100.00"
            ]
          },
          "metadata": {
            "tags": []
          },
          "execution_count": 50
        }
      ]
    },
    {
      "cell_type": "code",
      "metadata": {
        "colab": {
          "base_uri": "https://localhost:8080/"
        },
        "id": "AI2N9woktFGJ",
        "outputId": "41849cf0-77ad-442e-85ec-3776d02fe621"
      },
      "source": [
        "cm_rate.max(axis=0).sort_values(ascending=False)"
      ],
      "execution_count": null,
      "outputs": [
        {
          "output_type": "execute_result",
          "data": {
            "text/plain": [
              "9    100.00\n",
              "7    100.00\n",
              "4     99.68\n",
              "5     99.35\n",
              "0     99.26\n",
              "6     99.16\n",
              "1     99.16\n",
              "3     99.04\n",
              "2     98.28\n",
              "8     94.57\n",
              "dtype: float64"
            ]
          },
          "metadata": {
            "tags": []
          },
          "execution_count": 51
        }
      ]
    },
    {
      "cell_type": "code",
      "metadata": {
        "colab": {
          "base_uri": "https://localhost:8080/",
          "height": 649
        },
        "id": "yQCY_n4NtHgV",
        "outputId": "364ed38a-7328-45dd-8e93-605a2314e33e"
      },
      "source": [
        "fig, ax = plt.subplots()\n",
        "fig.set_size_inches(12, 10)\n",
        "sns.heatmap(cm_rate, vmin=0, vmax=100, cmap=\"jet\",annot=True)\n",
        "plt.title('Error Rates')\n",
        "plt.ylabel('True label')\n",
        "plt.xlabel('Predicted label')"
      ],
      "execution_count": null,
      "outputs": [
        {
          "output_type": "execute_result",
          "data": {
            "text/plain": [
              "<matplotlib.axes._subplots.AxesSubplot at 0x7f19f465cbd0>"
            ]
          },
          "metadata": {
            "tags": []
          },
          "execution_count": 52
        },
        {
          "output_type": "execute_result",
          "data": {
            "text/plain": [
              "Text(0.5, 1.0, 'Error Rates')"
            ]
          },
          "metadata": {
            "tags": []
          },
          "execution_count": 52
        },
        {
          "output_type": "execute_result",
          "data": {
            "text/plain": [
              "Text(83.0, 0.5, 'True label')"
            ]
          },
          "metadata": {
            "tags": []
          },
          "execution_count": 52
        },
        {
          "output_type": "execute_result",
          "data": {
            "text/plain": [
              "Text(0.5, 65.0, 'Predicted label')"
            ]
          },
          "metadata": {
            "tags": []
          },
          "execution_count": 52
        },
        {
          "output_type": "display_data",
          "data": {
            "image/png": "[encoded data removed]",
            "text/plain": [
              "<Figure size 864x720 with 2 Axes>"
            ]
          },
          "metadata": {
            "tags": [],
            "needs_background": "light"
          }
        }
      ]
    },
    {
      "cell_type": "code",
      "metadata": {
        "id": "j1JTKUsvtKJ7",
        "colab": {
          "base_uri": "https://localhost:8080/"
        },
        "outputId": "ad6b3dfb-44e7-4bea-c8c5-23f58f5ce103"
      },
      "source": [
        "!pip install coremltools"
      ],
      "execution_count": null,
      "outputs": [
        {
          "output_type": "stream",
          "text": [
            "Collecting coremltools\n",
            "\u001b[?25l  Downloading https://files.pythonhosted.org/packages/32/b0/14c37edf39a9b32c2c9c7aa3e27ece4ef4f5b2dd2c950102661a106520f1/coremltools-4.1-cp37-none-manylinux1_x86_64.whl (3.4MB)\n",
            "\u001b[K     |████████████████████████████████| 3.4MB 8.1MB/s \n",
            "\u001b[?25hCollecting attr\n",
            "  Downloading https://files.pythonhosted.org/packages/de/be/ddc7f84d4e087144472a38a373d3e319f51a6faf6e5fc1ae897173675f21/attr-0.3.1.tar.gz\n",
            "Requirement already satisfied: tqdm in /usr/local/lib/python3.7/dist-packages (from coremltools) (4.41.1)\n",
            "Requirement already satisfied: sympy in /usr/local/lib/python3.7/dist-packages (from coremltools) (1.7.1)\n",
            "Requirement already satisfied: attrs in /usr/local/lib/python3.7/dist-packages (from coremltools) (21.2.0)\n",
            "Requirement already satisfied: numpy<1.20,>=1.14.5 in /usr/local/lib/python3.7/dist-packages (from coremltools) (1.19.5)\n",
            "Requirement already satisfied: six>=1.10.0 in /usr/local/lib/python3.7/dist-packages (from coremltools) (1.15.0)\n",
            "Requirement already satisfied: protobuf>=3.1.0 in /usr/local/lib/python3.7/dist-packages (from coremltools) (3.12.4)\n",
            "Requirement already satisfied: packaging in /usr/local/lib/python3.7/dist-packages (from coremltools) (20.9)\n",
            "Requirement already satisfied: scipy in /usr/local/lib/python3.7/dist-packages (from coremltools) (1.4.1)\n",
            "Requirement already satisfied: mpmath>=0.19 in /usr/local/lib/python3.7/dist-packages (from sympy->coremltools) (1.2.1)\n",
            "Requirement already satisfied: setuptools in /usr/local/lib/python3.7/dist-packages (from protobuf>=3.1.0->coremltools) (56.1.0)\n",
            "Requirement already satisfied: pyparsing>=2.0.2 in /usr/local/lib/python3.7/dist-packages (from packaging->coremltools) (2.4.7)\n",
            "Building wheels for collected packages: attr\n",
            "  Building wheel for attr (setup.py) ... \u001b[?25l\u001b[?25hdone\n",
            "  Created wheel for attr: filename=attr-0.3.1-cp37-none-any.whl size=2458 sha256=f83bd567eefb043166871e3c30d475f265c4a04299a47ccb48c99e142a6d9d54\n",
            "  Stored in directory: /root/.cache/pip/wheels/f0/96/9b/1f8892a707d17095b5a6eab0275da9d39e68e03a26aee2e726\n",
            "Successfully built attr\n",
            "Installing collected packages: attr, coremltools\n",
            "Successfully installed attr-0.3.1 coremltools-4.1\n"
          ],
          "name": "stdout"
        }
      ]
    },
    {
      "cell_type": "code",
      "metadata": {
        "colab": {
          "base_uri": "https://localhost:8080/"
        },
        "id": "jGbBo4ZxF_ug",
        "outputId": "fbf36145-0e9b-473d-bd2b-d56abe8c411d"
      },
      "source": [
        "import coremltools as ct"
      ],
      "execution_count": null,
      "outputs": [
        {
          "output_type": "stream",
          "text": [
            "WARNING:root:scikit-learn version 0.22.2.post1 is not supported. Minimum required version: 0.17. Maximum required version: 0.19.2. Disabling scikit-learn conversion API.\n",
            "WARNING:root:TensorFlow version 2.4.1 detected. Last version known to be fully compatible is 2.3.1 .\n",
            "WARNING:root:Keras version 2.4.3 detected. Last version known to be fully compatible of Keras is 2.2.4 .\n"
          ],
          "name": "stderr"
        }
      ]
    },
    {
      "cell_type": "code",
      "metadata": {
        "colab": {
          "base_uri": "https://localhost:8080/"
        },
        "id": "DrooCuSiGHcR",
        "outputId": "41f7aa39-77b1-4e9f-833f-0c2c8e414ce1"
      },
      "source": [
        "# Pass in `tf.keras.Model` to the Unified Conversion API\n",
        "mlmodel = ct.convert(model)"
      ],
      "execution_count": null,
      "outputs": [
        {
          "output_type": "stream",
          "text": [
            "Running TensorFlow Graph Passes: 100%|██████████| 5/5 [00:00<00:00, 10.95 passes/s]\n",
            "Converting Frontend ==> MIL Ops: 100%|██████████| 238/238 [00:00<00:00, 797.02 ops/s]\n",
            "Running MIL optimization passes: 100%|██████████| 18/18 [00:00<00:00, 58.13 passes/s]\n",
            "Translating MIL ==> MLModel Ops: 100%|██████████| 410/410 [00:00<00:00, 970.28 ops/s] \n"
          ],
          "name": "stderr"
        }
      ]
    },
    {
      "cell_type": "code",
      "metadata": {
        "id": "3hGvcYI3GUvB"
      },
      "source": [
        "mlmodel.save(work_dir + \"exp2x2.mlmodel\")"
      ],
      "execution_count": null,
      "outputs": []
    }
  ]
}